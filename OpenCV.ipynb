{
 "cells": [
  {
   "cell_type": "markdown",
   "id": "f05bb212",
   "metadata": {},
   "source": [
    "# Fun with OpenCV"
   ]
  },
  {
   "cell_type": "markdown",
   "id": "bd762007",
   "metadata": {},
   "source": [
    "Import required libraries"
   ]
  },
  {
   "cell_type": "code",
   "execution_count": 12,
   "id": "5431f975",
   "metadata": {},
   "outputs": [],
   "source": [
    "# import cv2 and numpy\n",
    "import cv2\n",
    "import numpy as np"
   ]
  },
  {
   "cell_type": "markdown",
   "id": "84a1a949",
   "metadata": {},
   "source": [
    "# Task 1: Draw photo using OpenCV and Numpy"
   ]
  },
  {
   "cell_type": "code",
   "execution_count": 13,
   "id": "fc3f20c9",
   "metadata": {},
   "outputs": [],
   "source": [
    "# Create 3 D array with zeros\n",
    "photo = np.zeros((550, 500, 3))\n",
    "\n",
    "# Draw face\n",
    "cv2.circle(photo, center=(250,130), radius=100, color=(0,255,255), thickness= -1)\n",
    "\n",
    "# Draw mouth\n",
    "cv2.circle(photo, center=(250,180), radius=20, color=(0,0,0), thickness= -1)\n",
    "\n",
    "# Draw eyes\n",
    "cv2.circle(photo, center=(215,120), radius=15, color=(0,0,0), thickness= -1)\n",
    "cv2.circle(photo, center=(275,120), radius=15, color=(0,0,0), thickness= -1)\n",
    "\n",
    "# Draw body\n",
    "cv2.line(photo, (250, 250), (250, 510), (0, 255, 255), 30)\n",
    "\n",
    "# Draw hands\n",
    "cv2.line(photo, (250, 250), (150, 350), (0, 255, 255), 30)\n",
    "cv2.line(photo, (250, 250), (350, 350), (0, 255, 255), 30)\n",
    "\n",
    "# Draw legs\n",
    "cv2.line(photo, (250, 390), (150, 500), (0, 255, 255), 30)\n",
    "cv2.line(photo, (250, 390), (350, 500), (0, 255, 255), 30)\n",
    "\n",
    "# Display image\n",
    "cv2.imshow(\"MyPhoto\", photo)\n",
    "cv2.waitKey()\n",
    "cv2.destroyAllWindows()"
   ]
  },
  {
   "cell_type": "markdown",
   "id": "5508874b",
   "metadata": {},
   "source": [
    "# Task 2: Swap face of person from two images"
   ]
  },
  {
   "cell_type": "code",
   "execution_count": 14,
   "id": "1931e704",
   "metadata": {},
   "outputs": [],
   "source": [
    "# Read Tom Cruise Image\n",
    "tom = cv2.imread('tom.jpg')\n",
    "\n",
    "# Display Tom Cruise image\n",
    "cv2.imshow(\"Tom\", tom)\n",
    "cv2.waitKey()\n",
    "cv2.destroyAllWindows()"
   ]
  },
  {
   "cell_type": "code",
   "execution_count": 15,
   "id": "5ee451e1",
   "metadata": {},
   "outputs": [],
   "source": [
    "# Cordinates of Tom Cruise Face\n",
    "tx1 = 205\n",
    "ty1 = 0\n",
    "tx2 = 465\n",
    "ty2 = 260\n",
    "\n",
    "# Crop Tom Cruise face\n",
    "tomFace = tom[ty1:ty2, tx1:tx2]\n",
    "\n",
    "# Display face\n",
    "cv2.imshow(\"Tom\", tomFace)\n",
    "cv2.waitKey()\n",
    "cv2.destroyAllWindows()"
   ]
  },
  {
   "cell_type": "code",
   "execution_count": 16,
   "id": "d7bc6cea",
   "metadata": {},
   "outputs": [],
   "source": [
    "# Read Keanu Reeves Image\n",
    "john = cv2.imread('john.jpg')\n",
    "\n",
    "# Diplay Keanu Reeves Image\n",
    "cv2.imshow(\"John\", john)\n",
    "cv2.waitKey()\n",
    "cv2.destroyAllWindows()"
   ]
  },
  {
   "cell_type": "code",
   "execution_count": 17,
   "id": "f0d1444c",
   "metadata": {},
   "outputs": [],
   "source": [
    "# Cordinates of Keanu Reeves Face\n",
    "jx1 = 190\n",
    "jy1 = 15\n",
    "jx2 = 450\n",
    "jy2 = 275\n",
    "\n",
    "# Crop Keanu Reeves face\n",
    "johnFace = john[jy1:jy2, jx1:jx2]\n",
    "\n",
    "# Display face\n",
    "cv2.imshow(\"John\", johnFace)\n",
    "cv2.waitKey()\n",
    "cv2.destroyAllWindows()"
   ]
  },
  {
   "cell_type": "code",
   "execution_count": 18,
   "id": "b5b632ac",
   "metadata": {},
   "outputs": [
    {
     "data": {
      "text/plain": [
       "(260, 260, 3)"
      ]
     },
     "execution_count": 18,
     "metadata": {},
     "output_type": "execute_result"
    }
   ],
   "source": [
    "tomFace.shape"
   ]
  },
  {
   "cell_type": "code",
   "execution_count": 19,
   "id": "512457d1",
   "metadata": {},
   "outputs": [
    {
     "data": {
      "text/plain": [
       "(260, 260, 3)"
      ]
     },
     "execution_count": 19,
     "metadata": {},
     "output_type": "execute_result"
    }
   ],
   "source": [
    "johnFace.shape"
   ]
  },
  {
   "cell_type": "code",
   "execution_count": 20,
   "id": "59356b5b",
   "metadata": {},
   "outputs": [],
   "source": [
    "# Swap the face of Tom Cruise with Keanu Reeves\n",
    "tom = cv2.imread('tom.jpg')\n",
    "tom[ty1:ty2, tx1:tx2] = johnFace\n",
    "\n",
    "# Display swapped image\n",
    "cv2.imshow(\"Tom\", tom)\n",
    "cv2.waitKey()\n",
    "cv2.destroyAllWindows()"
   ]
  },
  {
   "cell_type": "code",
   "execution_count": 21,
   "id": "a2928245",
   "metadata": {},
   "outputs": [],
   "source": [
    "# Swap the face of Keanu Reeves with Tom Cruise\n",
    "john = cv2.imread('john.jpg')\n",
    "john[jy1:jy2, jx1:jx2] = tomFace\n",
    "\n",
    "# Display Image\n",
    "cv2.imshow(\"John\", john)\n",
    "cv2.waitKey()\n",
    "cv2.destroyAllWindows()"
   ]
  },
  {
   "cell_type": "markdown",
   "id": "260f0f14",
   "metadata": {},
   "source": [
    "# Task 3: Create collage of two images"
   ]
  },
  {
   "cell_type": "code",
   "execution_count": 22,
   "id": "e0a07704",
   "metadata": {},
   "outputs": [],
   "source": [
    "# Read image\n",
    "img1 = cv2.imread('tom-profile.jpeg')\n",
    "img2 = cv2.imread('john-profile.jpg')\n",
    "\n",
    "# Create collage\n",
    "import numpy as np \n",
    "collage = np.hstack((img1,img2))\n",
    "\n",
    "# Display image\n",
    "cv2.imshow(\"Collage\", collage)\n",
    "cv2.waitKey()\n",
    "cv2.destroyAllWindows()"
   ]
  },
  {
   "cell_type": "code",
   "execution_count": null,
   "id": "d4056a37",
   "metadata": {},
   "outputs": [],
   "source": []
  }
 ],
 "metadata": {
  "kernelspec": {
   "display_name": "Python 3",
   "language": "python",
   "name": "python3"
  },
  "language_info": {
   "codemirror_mode": {
    "name": "ipython",
    "version": 3
   },
   "file_extension": ".py",
   "mimetype": "text/x-python",
   "name": "python",
   "nbconvert_exporter": "python",
   "pygments_lexer": "ipython3",
   "version": "3.8.8"
  }
 },
 "nbformat": 4,
 "nbformat_minor": 5
}
